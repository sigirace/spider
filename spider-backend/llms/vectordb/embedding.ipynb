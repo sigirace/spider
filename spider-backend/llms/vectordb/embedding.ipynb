{
 "cells": [
  {
   "cell_type": "markdown",
   "metadata": {},
   "source": [
    "### Embeddings"
   ]
  },
  {
   "cell_type": "code",
   "execution_count": 1,
   "metadata": {},
   "outputs": [
    {
     "name": "stdout",
     "output_type": "stream",
     "text": [
      "[ 2024-10-17 20:34:27.942505 ] : connect_to_milvus()\n"
     ]
    }
   ],
   "source": [
    "import os\n",
    "import sys\n",
    "sys.path.append(os.path.abspath(os.path.join(os.getcwd(), '..')))\n",
    "sys.path.append(os.path.abspath(os.path.join(os.path.join(os.getcwd(), '..'), '..')))\n",
    "\n",
    "from pathlib import Path\n",
    "from vectorstore import VectorDB\n",
    "from schemas.models import get_milvus_settings\n",
    "from langchain_openai.embeddings import OpenAIEmbeddings\n",
    "\n",
    "BASE_DIR = Path.cwd().parent\n",
    "data_folder = os.path.join(BASE_DIR,'vectordb', 'data') \n",
    "file_list = os.listdir(data_folder)\n",
    "\n",
    "milvus_settings = get_milvus_settings()\n",
    "vector_db = VectorDB(settings=milvus_settings, embedding=OpenAIEmbeddings())"
   ]
  },
  {
   "cell_type": "code",
   "execution_count": 2,
   "metadata": {},
   "outputs": [
    {
     "name": "stdout",
     "output_type": "stream",
     "text": [
      "[ 2024-10-17 20:34:31.349486 ] : get_vectorstore()\n"
     ]
    },
    {
     "data": {
      "text/plain": [
       "[Document(metadata={'doc_name': 'guide.pdf', 'page_number': 21, 'creation_time': 1729026894.7537396, 'modification_time': 1728916150.4873421, 'key': 'guide.pdf_21_a40e5ec5ad704498f5ce554ec271953985290c9860974d38125d32dea0167615', 'pk': 453224949084361492}, page_content='※ 개인신용정보 전송 요구로부터 5분이 경과하였을 경우 지연으로 봄'),\n",
       " Document(metadata={'doc_name': 'guide.pdf', 'page_number': 92, 'creation_time': 1729026894.7537396, 'modification_time': 1728916150.4873421, 'key': 'guide.pdf_92_9fe4a62eaaac988dcdc8b0fb1cf824de4ec654ea130cf9b71426fa4ac52c761c', 'pk': 453224949084361799}, page_content='되었을 시, 서면, 전화, 전자우편, 휴대전화 문자메시지(SMS) 등을 통해 지체없이 해당 \\n고객에게 통지하여야 한다.\\n개인신용정보 누설의 예\\n∙ 신용정보회사등이 개인신용정보에 대하여 통제를 상실하거나 권한 없는 자의 접근을 허용한 \\n경우로서 아래의 예시 및 이와 유사한 경우 등에는 개인신용정보 누설로 볼 수 있음'),\n",
       " Document(metadata={'doc_name': 'api.pdf', 'page_number': 307, 'creation_time': 1729026884.7069488, 'modification_time': 1728916150.4709036, 'key': 'api.pdf_307_714dd023c10cf0d6efec63f7043e5efbd262ae7aac9e4a5fb70c32091be97fc3', 'pk': 453224949084363835}, page_content='경우 등)\\n40304\\n최근 5년을 경과한 개인신용정보를 요청 \\n(신정법 시행령 제28조의3제4항 관련)\\n40305\\n자산이 정상인 상태가 아님(카드 해지 등 \\n자산의 현 상태가 정상이 아닌 경우, 전송\\n요구 당시에는 ‘해지’상태가 아니었으나, \\n정보 요청 시 ‘해지’된 상태인 경우 등)\\n404\\n(Not \\nfound)\\n40401\\n각 기관별 자율적으로'),\n",
       " Document(metadata={'doc_name': 'guide.pdf', 'page_number': 13, 'creation_time': 1729026894.7537396, 'modification_time': 1728916150.4873421, 'key': 'guide.pdf_13_da1ae698e7b213530c530d7df82af404508959428644ab539a84d351859e2e3d', 'pk': 453224949084361459}, page_content='신용정보를 제공받는 자\\n- (마이데이터사업자) 금융위원회로부터 본인신용정보업 허가를 받아 고객에게 개인\\n신용정보 통합조회서비스(이하 마이데이터서비스)를 제공하는 자\\n- (마이데이터서비스) 개인신용정보 통합조회서비스 등 마이데이터사업자가 고객에게 \\n제공하는 서비스')]"
      ]
     },
     "execution_count": 2,
     "metadata": {},
     "output_type": "execute_result"
    }
   ],
   "source": [
    "retriever = vector_db.get_retriever(collection_name=\"document_embeddings\")\n",
    "retriever.invoke(\"안녕하세요\")"
   ]
  },
  {
   "cell_type": "code",
   "execution_count": 2,
   "metadata": {},
   "outputs": [
    {
     "name": "stdout",
     "output_type": "stream",
     "text": [
      "[ 2024-10-16 08:07:40.757646 ] : drop_database()\n"
     ]
    }
   ],
   "source": [
    "vector_db._drop_database(collection_name=\"document_embeddings\")"
   ]
  },
  {
   "cell_type": "code",
   "execution_count": 3,
   "metadata": {},
   "outputs": [
    {
     "name": "stdout",
     "output_type": "stream",
     "text": [
      "guide.pdf\n",
      "[ 2024-10-16 08:07:44.134683 ] : core_embedding()\n",
      "[ 2024-10-16 08:07:44.336309 ] : get_filtered_docs()\n",
      "[ 2024-10-16 08:07:44.336330 ] : check_collection_exists()\n",
      "[ 2024-10-16 08:07:51.549148 ] : Milvus collection 'document_embeddings' updated.\n",
      "api.pdf\n",
      "[ 2024-10-16 08:07:51.549353 ] : core_embedding()\n",
      "[ 2024-10-16 08:07:53.883038 ] : get_filtered_docs()\n",
      "[ 2024-10-16 08:07:53.883118 ] : check_collection_exists()\n",
      "[ 2024-10-16 08:07:54.045926 ] : get_collection()\n"
     ]
    },
    {
     "name": "stderr",
     "output_type": "stream",
     "text": [
      "100%|██████████| 2019/2019 [01:01<00:00, 32.90it/s]\n"
     ]
    },
    {
     "name": "stdout",
     "output_type": "stream",
     "text": [
      "[ 2024-10-16 08:09:15.847838 ] : Milvus collection 'document_embeddings' updated.\n"
     ]
    }
   ],
   "source": [
    "for file in file_list:\n",
    "    print(file)\n",
    "    file_path = os.path.join(data_folder, file)\n",
    "    vector_db.core_embedding(collection_name=\"document_embeddings\", file_path=file_path)"
   ]
  },
  {
   "cell_type": "markdown",
   "metadata": {},
   "source": [
    "### Embedding 수행 결과 확인"
   ]
  },
  {
   "cell_type": "code",
   "execution_count": 5,
   "metadata": {},
   "outputs": [
    {
     "name": "stdout",
     "output_type": "stream",
     "text": [
      "[ 2024-10-16 08:10:39.187087 ] : get_collection()\n",
      "Document Name: guide.pdf, Count: 544\n",
      "Document Name: api.pdf, Count: 2019\n"
     ]
    }
   ],
   "source": [
    "from collections import Counter\n",
    "\n",
    "collection = vector_db._get_collection(collection_name=\"document_embeddings\")\n",
    "results = collection.query(\n",
    "    expr=\"\",                    # 조건 없이 모든 데이터 가져옴\n",
    "    output_fields=[\"doc_name\"],\n",
    "    limit=10000       \n",
    ")\n",
    "# doc_name 필드를 카운트\n",
    "doc_names = [result[\"doc_name\"] for result in results]\n",
    "doc_name_counts = Counter(doc_names)\n",
    "\n",
    "# 결과 출력\n",
    "for doc_name, count in doc_name_counts.items():\n",
    "    print(f\"Document Name: {doc_name}, Count: {count}\")"
   ]
  }
 ],
 "metadata": {
  "kernelspec": {
   "display_name": "langchain-server-tPK4W7K3-py3.11",
   "language": "python",
   "name": "python3"
  },
  "language_info": {
   "codemirror_mode": {
    "name": "ipython",
    "version": 3
   },
   "file_extension": ".py",
   "mimetype": "text/x-python",
   "name": "python",
   "nbconvert_exporter": "python",
   "pygments_lexer": "ipython3",
   "version": "3.11.3"
  }
 },
 "nbformat": 4,
 "nbformat_minor": 2
}

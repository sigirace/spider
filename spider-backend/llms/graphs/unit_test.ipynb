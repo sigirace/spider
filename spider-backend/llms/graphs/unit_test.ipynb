{
 "cells": [
  {
   "cell_type": "code",
   "execution_count": 1,
   "metadata": {},
   "outputs": [],
   "source": [
    "import os\n",
    "import sys\n",
    "sys.path.append(os.path.abspath(os.path.join(os.getcwd(), '..')))\n",
    "sys.path.append(os.path.abspath(os.path.join(os.path.join(os.getcwd(), '..'), '..')))\n",
    "\n",
    "from vectordb.vectorstore import VectorDB\n",
    "from schemas.models import get_milvus_settings\n",
    "from langchain_community.embeddings.openai import OpenAIEmbeddings"
   ]
  },
  {
   "cell_type": "markdown",
   "metadata": {},
   "source": [
    "### retriver 객체 생성"
   ]
  },
  {
   "cell_type": "code",
   "execution_count": 2,
   "metadata": {},
   "outputs": [
    {
     "name": "stderr",
     "output_type": "stream",
     "text": [
      "/var/folders/4r/gj4j8ny95v9bfz63ty96fm280000gn/T/ipykernel_64046/2854754997.py:1: LangChainDeprecationWarning: The class `OpenAIEmbeddings` was deprecated in LangChain 0.0.9 and will be removed in 1.0. An updated version of the class exists in the :class:`~langchain-openai package and should be used instead. To use it run `pip install -U :class:`~langchain-openai` and import as `from :class:`~langchain_openai import OpenAIEmbeddings``.\n",
      "  vector_db = VectorDB(settings=get_milvus_settings(), embedding=OpenAIEmbeddings())\n"
     ]
    },
    {
     "name": "stdout",
     "output_type": "stream",
     "text": [
      "[ 2024-10-16 10:23:48.899514 ] : connect_to_milvus()\n",
      "[ 2024-10-16 10:23:49.028470 ] : get_vectorstore()\n"
     ]
    },
    {
     "name": "stderr",
     "output_type": "stream",
     "text": [
      "/Users/sigi/kang_dev/challenges/RAG/backend/spider-backend/llms/vectordb/vectorstore.py:54: LangChainDeprecationWarning: The class `Milvus` was deprecated in LangChain 0.2.0 and will be removed in 1.0. An updated version of the class exists in the :class:`~langchain-milvus package and should be used instead. To use it run `pip install -U :class:`~langchain-milvus` and import as `from :class:`~langchain_milvus import MilvusVectorStore``.\n",
      "  vectorstore = Milvus(\n"
     ]
    }
   ],
   "source": [
    "vector_db = VectorDB(settings=get_milvus_settings(), embedding=OpenAIEmbeddings())\n",
    "collection = vector_db._get_vectorstore(\"document_embeddings\")\n",
    "retriever = collection.as_retriever(search_kwargs={\"k\": 4})"
   ]
  },
  {
   "cell_type": "markdown",
   "metadata": {},
   "source": [
    "### LLM 객체 생성"
   ]
  },
  {
   "cell_type": "code",
   "execution_count": 3,
   "metadata": {},
   "outputs": [],
   "source": [
    "from langchain_openai import ChatOpenAI\n",
    "\n",
    "llm = ChatOpenAI(model=\"gpt-3.5-turbo-0125\", temperature=0)"
   ]
  },
  {
   "cell_type": "code",
   "execution_count": 4,
   "metadata": {},
   "outputs": [
    {
     "name": "stdout",
     "output_type": "stream",
     "text": [
      "과거 대화 내역 요약: 당신의 이름은 신강식이라고 합니다. AI는 반갑다고 인사합니다.\n",
      "\n",
      "\n"
     ]
    }
   ],
   "source": [
    "def make_history_summary(conversation_summary:str, conversation_history:list):\n",
    "\n",
    "    recent_history = \"\\n\".join([f\"{msg['role']}: {msg['content']}\" for msg in conversation_history]) \n",
    "\n",
    "    # 조건에 따라 텍스트 구성\n",
    "    history_summary = \"\"\n",
    "    if conversation_summary:\n",
    "        history_summary += f\"과거 대화 내역 요약: {conversation_summary}\\n\\n\"\n",
    "    if recent_history:\n",
    "        history_summary += f\"최근 대화 내역: {recent_history}\\n\\n\"\n",
    "\n",
    "    return history_summary\n",
    "\n",
    "conversation_summary = \"당신의 이름은 신강식이라고 합니다. AI는 반갑다고 인사합니다.\"\n",
    "conversation_history = []\n",
    "\n",
    "history = make_history_summary(conversation_summary, conversation_history)\n",
    "print(history)"
   ]
  },
  {
   "cell_type": "markdown",
   "metadata": {},
   "source": [
    "### 1. Router"
   ]
  },
  {
   "cell_type": "code",
   "execution_count": 5,
   "metadata": {},
   "outputs": [],
   "source": [
    "from langchain_core.prompts import (\n",
    "    ChatPromptTemplate,\n",
    ")\n",
    "\n",
    "from typing import List\n",
    "\n",
    "from llms.tools.structured_model import RouteQuery\n",
    "\n",
    "def router(llm:ChatOpenAI,  history:str, question:str)->RouteQuery:\n",
    "\n",
    "    router_system_msg = \"\"\"당신은 사용자 질문을 vectorstore, common, web으로 라우팅하는 전문가입니다.\\nvectorstore에는 금융분야 마이데이터에 대한 기술 가이드 및 표준 API 규격 문서가 포함되어 있습니다.\\n해당 주제에 대한 질문은 vectorstore를 사용합니다.\\n일반적인 대화는 common을 사용합니다.\\n반면 웹 검색이 필요로 하다고 판단되면 web을 사용합니다.\\n사용자의 질문을 우선으로 평가하며 필요한 경우에 과거 대화 기록을 참조하세요.\"\"\"\n",
    "\n",
    "    router_prompt = ChatPromptTemplate.from_messages(\n",
    "        [\n",
    "            (\"system\", router_system_msg),\n",
    "            (\"human\", f\"{history}\\n\\n질문: {question}\"),\n",
    "        ]\n",
    "    )\n",
    "\n",
    "    router_chain = router_prompt | llm.with_structured_output(RouteQuery)\n",
    "\n",
    "    return router_chain.invoke({\"history\":history,\"question\": question})"
   ]
  },
  {
   "cell_type": "code",
   "execution_count": 6,
   "metadata": {},
   "outputs": [
    {
     "data": {
      "text/plain": [
       "RouteQuery(datasource='common')"
      ]
     },
     "execution_count": 6,
     "metadata": {},
     "output_type": "execute_result"
    }
   ],
   "source": [
    "router(llm, \"반갑다\", history)"
   ]
  },
  {
   "cell_type": "markdown",
   "metadata": {},
   "source": [
    "## Common"
   ]
  },
  {
   "cell_type": "markdown",
   "metadata": {},
   "source": [
    "### Common Generator"
   ]
  },
  {
   "cell_type": "code",
   "execution_count": 61,
   "metadata": {},
   "outputs": [],
   "source": [
    "from langchain_core.output_parsers import StrOutputParser\n",
    "\n",
    "def common(llm:ChatOpenAI, history:str, question:str)->str:\n",
    "\n",
    "    common_system_msg = \"\"\"당신은 질문에 대한 답변을 주는 챗봇입니다.\"\"\"\n",
    "\n",
    "    common_prompt = ChatPromptTemplate.from_messages(\n",
    "        [\n",
    "            (\"system\", common_system_msg),\n",
    "            (\"human\", \"{history} \\n\\n 사용자의 질문: \\n\\n {question}\"),\n",
    "        ]\n",
    "    )\n",
    "\n",
    "    common_chain = common_prompt | llm | StrOutputParser()\n",
    "\n",
    "    return common_chain.invoke({\"history\": history, \"question\": question})"
   ]
  },
  {
   "cell_type": "code",
   "execution_count": 62,
   "metadata": {},
   "outputs": [
    {
     "data": {
      "text/plain": [
       "'당신의 이름은 신강식입니다.'"
      ]
     },
     "execution_count": 62,
     "metadata": {},
     "output_type": "execute_result"
    }
   ],
   "source": [
    "common(llm, history, \"내 이름이 뭐야?\")"
   ]
  },
  {
   "cell_type": "markdown",
   "metadata": {},
   "source": [
    "## RAG"
   ]
  },
  {
   "cell_type": "markdown",
   "metadata": {},
   "source": [
    "### Retrieval Grader"
   ]
  },
  {
   "cell_type": "code",
   "execution_count": 7,
   "metadata": {},
   "outputs": [],
   "source": [
    "from llms.tools.structured_model import GradeDocuments\n",
    "\n",
    "\n",
    "def retrieval_grader(llm:ChatOpenAI, document:str, question:str)->GradeDocuments:\n",
    "\n",
    "    retrieval_grader_system_msg = \"\"\"당신은 검색된 문서와 사용자 질문의 관련성을 평가하는 채점자입니다.\\n문서에 사용자 질문과 관련된 키워드 또는 의미론적 의미가 포함된 경우 관련성이 있는 것으로 등급을 매깁니다.\\n엄격한 테스트일 필요는 없습니다. 목표는 잘못된 검색을 걸러내는 것입니다.\\n'yes' 또는 'no'를 사용하여 문서와 질문의 관련성을 평가합니다.\"\"\"\n",
    "\n",
    "    retrieval_grader_prompt = ChatPromptTemplate.from_messages(\n",
    "        [\n",
    "            (\"system\", retrieval_grader_system_msg),\n",
    "            (\"human\", \"검색된 문서: \\n\\n {document} \\n\\n 사용자 질문: {question}\"),\n",
    "        ]\n",
    "    )\n",
    "\n",
    "    retrieval_grader_chain = retrieval_grader_prompt | llm.with_structured_output(GradeDocuments)\n",
    "\n",
    "    return retrieval_grader_chain.invoke({\"document\": document, \"question\": question})"
   ]
  },
  {
   "cell_type": "markdown",
   "metadata": {},
   "source": [
    "### RAG Generator"
   ]
  },
  {
   "cell_type": "code",
   "execution_count": 88,
   "metadata": {},
   "outputs": [],
   "source": [
    "from langchain_core.output_parsers import StrOutputParser\n",
    "from langchain_core.documents import Document\n",
    "\n",
    "def rag(llm:ChatOpenAI,  history:str, documents:List[Document], question:str) -> str:\n",
    "\n",
    "    rag_system_msg = \"\"\"당신은 주어진 질문에 대한 답변을 하는 전문가입니다.\\n다음 검색된 문서를 사용하여 질문에 답하세요.\\n답을 모르면 모른다고 말하세요.\\n필요할 경우에만 과거 대화 기록을 참조하세요.\\n답변은 최대한 상세하게 작성되어야 합니다.\\n마지막에 참조한 문서의 이름과 페이지를 언급하세요.\"\"\"\n",
    "\n",
    "    rag_prompt = ChatPromptTemplate.from_messages(\n",
    "        [\n",
    "            (\"system\", rag_system_msg),\n",
    "            (\"human\", \"{history} \\n\\n 검색된 문서: \\n\\n {documents} \\n\\n 사용자 질문: {question}\"),\n",
    "        ]\n",
    "    )\n",
    "\n",
    "    rag_chain = rag_prompt | llm | StrOutputParser()\n",
    "\n",
    "    return rag_chain.invoke({\"history\": history, \"documents\": documents, \"question\": question})"
   ]
  },
  {
   "cell_type": "markdown",
   "metadata": {},
   "source": [
    "### Web RAG Generator"
   ]
  },
  {
   "cell_type": "code",
   "execution_count": 98,
   "metadata": {},
   "outputs": [],
   "source": [
    "from langchain_core.output_parsers import StrOutputParser\n",
    "from langchain_core.documents import Document\n",
    "\n",
    "def web_rag(llm:ChatOpenAI,  history:str, documents:List[Document], question:str) -> str:\n",
    "\n",
    "    web_rag_system_msg = \"\"\"당신은 주어진 질문에 대한 답변을 하는 전문가입니다.\\n제시된 문서는 웹 검색을 통해 얻은 문서입니다.\\n이를 사용하여 질문에 답하세요.\\n답변은 최대한 상세하게 작성되어야 합니다.\\n답을 모르면 모른다고 말하세요.\\n필요할 경우에만 과거 대화 기록을 참조하세요.\\n마지막에 참조한 웹 사이트의 정보를 언급하고 링크를 제시하세요.\"\"\"\n",
    "\n",
    "    web_rag_prompt = ChatPromptTemplate.from_messages(\n",
    "        [\n",
    "            (\"system\", web_rag_system_msg),\n",
    "            (\"human\", \"{history} \\n\\n 검색된 문서: \\n\\n {documents} \\n\\n 사용자 질문: {question}\"),\n",
    "        ]\n",
    "    )\n",
    "\n",
    "    rag_chain = web_rag_prompt | llm | StrOutputParser()\n",
    "\n",
    "    return rag_chain.invoke({\"history\": history, \"documents\": documents, \"question\": question})"
   ]
  },
  {
   "cell_type": "markdown",
   "metadata": {},
   "source": [
    "## Hallucination"
   ]
  },
  {
   "cell_type": "markdown",
   "metadata": {},
   "source": [
    "### Hallucination Grader"
   ]
  },
  {
   "cell_type": "code",
   "execution_count": 179,
   "metadata": {},
   "outputs": [],
   "source": [
    "from llms.tools.structured_model import GradeHallucinations\n",
    "\n",
    "\n",
    "def hallucination_grader(llm:ChatOpenAI, history:str, documents:List[Document], generation:str, hallucinate_cnt:int)->GradeHallucinations:\n",
    "\n",
    "    if hallucinate_cnt > 3:\n",
    "        return GradeHallucinations(multiple_score=\"infinite\")\n",
    "    \n",
    "    hallucination_system_msg = \"\"\"검색된 문서를 사실이라고 보고, 사실에 근거하여 답변을 생성하고있는지 여부를 평가하는 등급입니다.\\n'yes', 'no'를 사용하여 평가합니다.\\n'yes'는 답이 사실에 근거하는 것을 의미합니다.\\n'no'는 답변이 문서에 기반하지 않음을 의미합니다.\\n 단, 너무 엄격할 필요는 없기에 문서와 답변의 의미가 일치하면 'yes'로 평가합니다.\\n필요할 경우에만 과거 대화 이력을 참조하세요.\"\"\"\n",
    "\n",
    "    hallucination_grader_prompt = ChatPromptTemplate.from_messages(\n",
    "        [\n",
    "            (\"system\", hallucination_system_msg),\n",
    "            (\"human\", \"{history}\\n\\n 검색된 문서(사실): \\n\\n {documents} \\n\\n LLM의 답변: {generation}\"),\n",
    "        ]\n",
    "    )\n",
    "\n",
    "    hallucination_grader_chain = hallucination_grader_prompt | llm.with_structured_output(GradeHallucinations)\n",
    "\n",
    "    return hallucination_grader_chain.invoke({\"hallucinate_cnt\": hallucinate_cnt,\"history\": history\n",
    "                                        , \"documents\": documents, \"generation\": generation })"
   ]
  },
  {
   "cell_type": "markdown",
   "metadata": {},
   "source": [
    "### Answer Grader"
   ]
  },
  {
   "cell_type": "code",
   "execution_count": 10,
   "metadata": {},
   "outputs": [],
   "source": [
    "from llms.tools.structured_model import GradeAnswer\n",
    "\n",
    "\n",
    "def answer_grader(llm:ChatOpenAI, history:str, question:str, generation:str)->GradeAnswer:\n",
    "\n",
    "    answer_grader_system_msg = \"\"\"당신은 답변이 질문을 해결하는지 여부를 평가하는 채점자입니다.\\n'yes' 또는 'no'를 사용하여 평가하며, 'yes'는 답이 문제를 해결한다는 의미입니다.\\n필요할 경우에만 과거 대화 이력을 참조하세요.\"\"\"\n",
    "\n",
    "    answer_grader_prompt = ChatPromptTemplate.from_messages(\n",
    "        [\n",
    "            (\"system\", answer_grader_system_msg),\n",
    "            (\"human\", \"{history} \\n\\n 사용자의 질문: \\n\\n {question} \\n\\n LLM의 답변: {generation}\"),\n",
    "        ]\n",
    "    )\n",
    "\n",
    "    answer_grader_chain = answer_grader_prompt | llm.with_structured_output(GradeAnswer)\n",
    "\n",
    "    return answer_grader_chain.invoke({\"history\": history, \"question\": question, \"generation\": generation})"
   ]
  },
  {
   "cell_type": "markdown",
   "metadata": {},
   "source": [
    "## Transform"
   ]
  },
  {
   "cell_type": "markdown",
   "metadata": {},
   "source": [
    "### Transform Query"
   ]
  },
  {
   "cell_type": "code",
   "execution_count": 59,
   "metadata": {},
   "outputs": [],
   "source": [
    "from langchain_core.output_parsers import StrOutputParser\n",
    "\n",
    "def re_write(llm:ChatOpenAI, history:str, question:str)->str:\n",
    "\n",
    "    re_write_system_msg = \"\"\"당신은 입력 질문을 금융 마이데이터 관점에서 최적화하여 변환하는 질문 재작성자입니다.\\n사용자의 질문의 의도/의미를 추론해 보세요.\\n최종 출력은 원래 질문과 동일한 의미를 가지면서 금융 마이데이터의 관점에서 더 나은 질문을 생성해야 합니다.\\n필요할 경우에만 과거 대화 이력을 참조하세요.\"\"\"\n",
    "\n",
    "    re_write_prompt = ChatPromptTemplate.from_messages(\n",
    "        [\n",
    "            (\"system\", re_write_system_msg),\n",
    "            (\"human\", \"{history} \\n\\n 사용자의 초기 질문: \\n\\n {question}\\n개선된 질문:\"),\n",
    "        ]\n",
    "    )\n",
    "\n",
    "    re_write_chain = re_write_prompt | llm | StrOutputParser()\n",
    "\n",
    "    return re_write_chain.invoke({\"history\": history, \"question\": question})"
   ]
  },
  {
   "cell_type": "code",
   "execution_count": 60,
   "metadata": {},
   "outputs": [
    {
     "data": {
      "text/plain": [
       "'토큰 만료 시에는 어떤 조치를 취해야 하나요?'"
      ]
     },
     "execution_count": 60,
     "metadata": {},
     "output_type": "execute_result"
    }
   ],
   "source": [
    "re_write(llm, history, \"토큰 만료시 어떻게해\")"
   ]
  },
  {
   "cell_type": "markdown",
   "metadata": {},
   "source": [
    "### Web Transform Query"
   ]
  },
  {
   "cell_type": "code",
   "execution_count": 57,
   "metadata": {},
   "outputs": [],
   "source": [
    "from langchain_core.output_parsers import StrOutputParser\n",
    "\n",
    "def re_write_for_web(llm:ChatOpenAI, history:str, question:str)->str:\n",
    "\n",
    "    re_write_for_web_system_msg = \"\"\"당신은 입력 질문을 금융 마이데이터에 대한 내용을 포함하고, 웹 검색에 맞게 최적화하여 변환하는 질문 재작성자입니다.\\n금융 마이데이터에 대한 내용을 더해 질문을 개선하세요.\\n웹 검색을 위한 질문은 반드시 명사구로만 작성되어야 합니다.\\n아래 예시를 참조하세요.\\n[예시]\\n1. 사용자의 초기 질문: 포켓몬고 어떻게 설치해? -> 개선된 질문: 포켓몬고 설치 방법\\n2. 사용자의 초기 질문: 흑백요리사에서 가장 인기있는 요리는 무엇인가요?-> 개선된 질문: 흑백 요리사 인기 요리\\n\\n필요할 경우에만 과거 대화 이력을 참조하세요.\"\"\"\n",
    "\n",
    "    re_write_for_web_prompt = ChatPromptTemplate.from_messages(\n",
    "        [\n",
    "            (\"system\", re_write_for_web_system_msg),\n",
    "            (\"human\", \"{history} \\n\\n 사용자의 초기 질문: \\n\\n {question}\\n개선된 질문:\"),\n",
    "        ]\n",
    "    )\n",
    "\n",
    "    re_write_for_web_chain = re_write_for_web_prompt | llm | StrOutputParser()\n",
    "\n",
    "    return re_write_for_web_chain.invoke({\"history\": history, \"question\": question})"
   ]
  },
  {
   "cell_type": "code",
   "execution_count": 58,
   "metadata": {},
   "outputs": [
    {
     "data": {
      "text/plain": [
       "'금융 마이데이터에서 API 스펙 중 aNS는 무엇을 의미하나요?'"
      ]
     },
     "execution_count": 58,
     "metadata": {},
     "output_type": "execute_result"
    }
   ],
   "source": [
    "re_write_for_web(llm, history, \"API 스펙 중 aNS는 어떤 것을 뜻해?\")"
   ]
  },
  {
   "cell_type": "markdown",
   "metadata": {},
   "source": [
    "### Web Search"
   ]
  },
  {
   "cell_type": "code",
   "execution_count": 115,
   "metadata": {},
   "outputs": [],
   "source": [
    "from langchain_community.tools.tavily_search import TavilySearchResults\n",
    "\n",
    "# tavily_api_key를 환경 변수에서 가져오기\n",
    "web_search_tool = TavilySearchResults(k=3)"
   ]
  },
  {
   "cell_type": "markdown",
   "metadata": {},
   "source": [
    "### Define Graph State"
   ]
  },
  {
   "cell_type": "code",
   "execution_count": 195,
   "metadata": {},
   "outputs": [],
   "source": [
    "from typing import List\n",
    "\n",
    "from typing_extensions import TypedDict\n",
    "\n",
    "\n",
    "class GraphState(TypedDict):\n",
    "    \"\"\"\n",
    "    Represents the state of our graph.\n",
    "\n",
    "    Attributes:\n",
    "        question: question\n",
    "        generation: LLM generation\n",
    "        documents: list of documents\n",
    "    \"\"\"\n",
    "\n",
    "    question: str\n",
    "    history: str\n",
    "    generation: str\n",
    "    documents: List[str]\n",
    "    hallucinate_cnt: int"
   ]
  },
  {
   "cell_type": "code",
   "execution_count": 202,
   "metadata": {},
   "outputs": [],
   "source": [
    "state = GraphState()\n",
    "state[\"history\"] = history\n",
    "state[\"question\"] = \"x-api-tran-id에 대해 알려주세요.\""
   ]
  },
  {
   "cell_type": "markdown",
   "metadata": {},
   "source": [
    "# Define Graph Flow"
   ]
  },
  {
   "cell_type": "markdown",
   "metadata": {},
   "source": [
    "## Retrieve"
   ]
  },
  {
   "cell_type": "code",
   "execution_count": 203,
   "metadata": {},
   "outputs": [],
   "source": [
    "def retrieve(state):\n",
    "    \"\"\"\n",
    "    Retrieve documents\n",
    "\n",
    "    Args:\n",
    "        state (dict): The current graph state\n",
    "\n",
    "    Returns:\n",
    "        state (dict): New key added to state, documents, that contains retrieved documents\n",
    "    \"\"\"\n",
    "    print(\"****retrieve****\")\n",
    "    print(\"---RETRIEVE---\")\n",
    "    question = state[\"question\"]\n",
    "\n",
    "    # Retrieval\n",
    "    documents = retriever.invoke(question)\n",
    "    return {\"documents\": documents, \"question\": question}"
   ]
  },
  {
   "cell_type": "code",
   "execution_count": 204,
   "metadata": {},
   "outputs": [
    {
     "name": "stdout",
     "output_type": "stream",
     "text": [
      "****retrieve****\n",
      "---RETRIEVE---\n",
      "{'documents': [Document(metadata={'doc_name': 'api.pdf', 'page_number': 136, 'creation_time': 1729026884.7069488, 'modification_time': 1728916150.4709036, 'key': 'api.pdf_136_156500d074fa1950fa8e524eaaf46de8cda04f5cf83425300699796ec7991c48', 'pk': 453224949084362800}, page_content='x-api-tran-id\\n거래고유번호\\nY\\nAN (25)\\n거래고유번호 (첨부14 참조)\\nx-api-type\\nAPI 유형\\nY\\naNS (12)\\n정기적/비정기적 전송 API 유형 (2.1-\\uf000 및 \\n3.3 참조)\\nBody\\norg_code\\n기관코드\\nY\\naN (10)\\n정보제공자 기관코드\\n• 지원 API로부터 배포\\naccount_num\\n계좌번호\\nY\\naN (20)'), Document(metadata={'doc_name': 'api.pdf', 'page_number': 251, 'creation_time': 1729026884.7069488, 'modification_time': 1728916150.4709036, 'key': 'api.pdf_251_156500d074fa1950fa8e524eaaf46de8cda04f5cf83425300699796ec7991c48', 'pk': 453224949084363506}, page_content='x-api-tran-id\\n거래고유번호\\nY\\nAN (25)\\n거래고유번호 (첨부14 참조)\\nx-api-type\\nAPI 유형\\nY\\naNS (12)\\n정기적/비정기적 전송 API 유형 (2.1-\\uf000 및 \\n3.3 참조)\\nBody\\norg_code\\n기관코드\\nY\\naN (10)\\n정보제공자 기관코드\\n• 지원 API로부터 배포\\naccount_num\\n계좌번호\\nY\\naN (20)'), Document(metadata={'doc_name': 'api.pdf', 'page_number': 256, 'creation_time': 1729026884.7069488, 'modification_time': 1728916150.4709036, 'key': 'api.pdf_256_156500d074fa1950fa8e524eaaf46de8cda04f5cf83425300699796ec7991c48', 'pk': 453224949084363541}, page_content='x-api-tran-id\\n거래고유번호\\nY\\nAN (25)\\n거래고유번호 (첨부14 참조)\\nx-api-type\\nAPI 유형\\nY\\naNS (12)\\n정기적/비정기적 전송 API 유형 (2.1-\\uf000 및 \\n3.3 참조)\\nBody\\norg_code\\n기관코드\\nY\\naN (10)\\n정보제공자 기관코드\\n• 지원 API로부터 배포\\naccount_num\\n계좌번호\\nY\\naN (20)'), Document(metadata={'doc_name': 'api.pdf', 'page_number': 151, 'creation_time': 1729026884.7069488, 'modification_time': 1728916150.4709036, 'key': 'api.pdf_151_156500d074fa1950fa8e524eaaf46de8cda04f5cf83425300699796ec7991c48', 'pk': 453224949084362885}, page_content='x-api-tran-id\\n거래고유번호\\nY\\nAN (25)\\n거래고유번호 (첨부14 참조)\\nx-api-type\\nAPI 유형\\nY\\naNS (12)\\n정기적/비정기적 전송 API 유형 (2.1-\\uf000 및 \\n3.3 참조)\\nBody\\norg_code\\n기관코드\\nY\\naN (10)\\n정보제공자 기관코드\\n• 지원 API로부터 배포\\naccount_num\\n계좌번호\\nY\\naN (20)')], 'question': 'x-api-tran-id에 대해 알려주세요.'}\n"
     ]
    }
   ],
   "source": [
    "result = retrieve(state)\n",
    "print(result)"
   ]
  },
  {
   "cell_type": "code",
   "execution_count": 83,
   "metadata": {},
   "outputs": [],
   "source": [
    "state.update({\"documents\": result['documents']})"
   ]
  },
  {
   "cell_type": "markdown",
   "metadata": {},
   "source": [
    "## Generate"
   ]
  },
  {
   "cell_type": "markdown",
   "metadata": {},
   "source": [
    "### Common Generate"
   ]
  },
  {
   "cell_type": "code",
   "execution_count": 84,
   "metadata": {},
   "outputs": [],
   "source": [
    "def generate(state):\n",
    "    \"\"\"\n",
    "    Generate answer using gpt knowledge\n",
    "\n",
    "    Args:\n",
    "        state (dict): The current graph state\n",
    "\n",
    "    Returns:\n",
    "        state (dict): New key added to state, generation, that contains LLM generation\n",
    "    \"\"\"\n",
    "    print(\"---GENERATE(COMMON)---\")\n",
    "    question = state[\"question\"]\n",
    "    history = state[\"history\"]\n",
    "\n",
    "    generation = common(llm, history, question)\n",
    "    # RAG generation\n",
    "    return {\"question\": question, \"history\": history, \"generation\": generation}"
   ]
  },
  {
   "cell_type": "code",
   "execution_count": 94,
   "metadata": {},
   "outputs": [
    {
     "name": "stdout",
     "output_type": "stream",
     "text": [
      "---GENERATE(COMMON)---\n",
      "{'question': '토큰 발행이 만료되면 어떻게해?', 'history': '과거 대화 내역 요약: 당신의 이름은 신강식이라고 합니다. AI는 반갑다고 인사합니다.\\n\\n', 'generation': '토큰 발행이 만료되면 보통 새로운 토큰을 발급받아야 합니다. 만료된 토큰을 사용하면 인증이 실패할 수 있으므로 새로운 토큰을 발급받아 시스템에 다시 제공해야 합니다.'}\n"
     ]
    }
   ],
   "source": [
    "result =generate(state)\n",
    "print(result)"
   ]
  },
  {
   "cell_type": "markdown",
   "metadata": {},
   "source": [
    "### RAG Generate"
   ]
  },
  {
   "cell_type": "code",
   "execution_count": 91,
   "metadata": {},
   "outputs": [],
   "source": [
    "def generate_rag(state):\n",
    "    \"\"\"\n",
    "    Generate answer using vectorstore\n",
    "\n",
    "    Args:\n",
    "        state (dict): The current graph state\n",
    "\n",
    "    Returns:\n",
    "        state (dict): New key added to state, generation, that contains LLM generation\n",
    "    \"\"\"\n",
    "    print(\"---GENERATE RAG(VECTORSTORE)---\")\n",
    "    question = state[\"question\"]\n",
    "    documents = state[\"documents\"]\n",
    "    history = state[\"history\"]\n",
    "    hallucinate_cnt = state[\"hallucinate_cnt\"]\n",
    "\n",
    "    generation = rag(llm, history, documents, question)\n",
    "    # RAG generation\n",
    "    return {\"documents\": documents, \"question\": question, \"history\": history, \"generation\": generation, \"hallucinate_cnt\": hallucinate_cnt+1}"
   ]
  },
  {
   "cell_type": "code",
   "execution_count": 93,
   "metadata": {},
   "outputs": [
    {
     "name": "stdout",
     "output_type": "stream",
     "text": [
      "---GENERATE RAG(VECTORSTORE)---\n",
      "{'documents': [Document(metadata={'doc_name': 'guide.pdf', 'page_number': 134, 'creation_time': 1729026894.7537396, 'modification_time': 1728916150.4873421, 'key': 'guide.pdf_134_93501f35de66dc071a7b0d836c7118791795f0ab69d67cfe836dcb3487f0396c', 'pk': 453224949084361958}, page_content='1-5. 지원API 제공용 접근토큰의 유효기간을 1년 이내로 설정하여 발급\\n1-6. 접근토큰 발급·재발급 시 전송요구 동의기간을 참고하여 유효기간을 알맞게 \\n설정하여 발급\\n2.발급관리\\n2-1. 실제로 전송을 요구한 정보주체에 해당하는 접근토큰과 리프레시토큰을 발급\\n2-2. 정보주체별로 중복된 접근토큰과 리프레시토큰이 발급되지 않도록 발급시 \\n확인・관리'), Document(metadata={'doc_name': 'guide.pdf', 'page_number': 134, 'creation_time': 1729026894.7537396, 'modification_time': 1728916150.4873421, 'key': 'guide.pdf_134_c37f12bf60d3e4890beab49c1ded8c16ca6cd666807225459749cdc2815979a8', 'pk': 453224949084361960}, page_content='토큰을 발급·관리\\n3.갱신 및 \\n폐기관리\\n3-1. 전송요구 유효기간 동안 리프레시토큰을 무단 변경하지 않음 (갱신·삭제 등)\\n3-2. 전송요구 변경에 따라 새로운 접근토큰과 리프레시토큰 발급 시 기존 접근\\n토큰과 리프레시토큰을 즉시 폐기\\n3-3. 전송요구 철회시 접근토큰과 리프레시토큰을 즉시 폐기\\n4. 정보제공'), Document(metadata={'doc_name': 'api.pdf', 'page_number': 48, 'creation_time': 1729026884.7069488, 'modification_time': 1728916150.4709036, 'key': 'api.pdf_48_1a326de885c7ddf3fa365ff5bcb9d5c0322791fa9dd15597103261be96d24a94', 'pk': 453224949084362323}, page_content='정보주체 재동의 없이 리프레시 토큰을 이용하여 접근토큰 갱신이 \\n가능\\n   ㅇ (지원 API 호출용/제공용) 접근토큰의 유효기간은 최장 1년이며, 리프\\n레시 토큰은 지원 안 함'), Document(metadata={'doc_name': 'guide.pdf', 'page_number': 114, 'creation_time': 1729026894.7537396, 'modification_time': 1728916150.4873421, 'key': 'guide.pdf_114_ce1f79964bb08957f2adcb9d8e2c54b8c75ac06a24def0d9dda7d67e6eef1484', 'pk': 453224949084361891}, page_content='요청 권한을 획득하기 위한 것으로 정보제공자가 마이데이터사업자에게 발급합니다. \\n접근토큰은 최대 유효기간이 1년이며 개인신용정보 전송 요구 변경･연장 시에 \\n기발급된 접근 토큰을 폐기하고 재발급받아야 합니다.')], 'question': '토큰 발행이 만료되면 어떻게해?', 'history': '과거 대화 내역 요약: 당신의 이름은 신강식이라고 합니다. AI는 반갑다고 인사합니다.\\n\\n', 'generation': '토큰 발행이 만료되면 새로운 접근토큰과 리프레시토큰을 발급해야 합니다. 만약 토큰이 만료되면, 새로운 접근토큰과 리프레시토큰을 발급하여 이전에 사용하던 토큰을 폐기해야 합니다. 이를 통해 보안을 유지하고 시스템의 안전성을 확보할 수 있습니다.\\n\\n참조 문서: guide.pdf (페이지 134), api.pdf (페이지 48)', 'hallucinate_cnt': 1}\n"
     ]
    }
   ],
   "source": [
    "result = generate_rag(state)\n",
    "print(result)"
   ]
  },
  {
   "cell_type": "markdown",
   "metadata": {},
   "source": [
    "### Web RAG Generate"
   ]
  },
  {
   "cell_type": "code",
   "execution_count": 101,
   "metadata": {},
   "outputs": [],
   "source": [
    "def generate_web_rag(state):\n",
    "    \"\"\"\n",
    "    Generate answer using web search results\n",
    "\n",
    "    Args:\n",
    "        state (dict): The current graph state\n",
    "\n",
    "    Returns:\n",
    "        state (dict): New key added to state, generation, that contains LLM generation\n",
    "    \"\"\"\n",
    "    print(\"---GENERATE RAG(WEB SEARCH)---\")\n",
    "    question = state[\"question\"]\n",
    "    documents = state[\"documents\"]\n",
    "    history = state[\"history\"]\n",
    "\n",
    "    generation = web_rag(llm, history, documents, question)\n",
    "    # RAG generation\n",
    "    return {\"documents\": documents, \"question\": question, \"history\": history, \"generation\": generation}"
   ]
  },
  {
   "cell_type": "code",
   "execution_count": 132,
   "metadata": {},
   "outputs": [
    {
     "name": "stdout",
     "output_type": "stream",
     "text": [
      "---GENERATE RAG(WEB SEARCH)---\n",
      "{'documents': [Document(metadata={'doc_name': 'guide.pdf', 'page_number': 134, 'creation_time': 1729026894.7537396, 'modification_time': 1728916150.4873421, 'key': 'guide.pdf_134_93501f35de66dc071a7b0d836c7118791795f0ab69d67cfe836dcb3487f0396c', 'pk': 453224949084361958}, page_content='1-5. 지원API 제공용 접근토큰의 유효기간을 1년 이내로 설정하여 발급\\n1-6. 접근토큰 발급·재발급 시 전송요구 동의기간을 참고하여 유효기간을 알맞게 \\n설정하여 발급\\n2.발급관리\\n2-1. 실제로 전송을 요구한 정보주체에 해당하는 접근토큰과 리프레시토큰을 발급\\n2-2. 정보주체별로 중복된 접근토큰과 리프레시토큰이 발급되지 않도록 발급시 \\n확인・관리'), Document(metadata={'doc_name': 'guide.pdf', 'page_number': 134, 'creation_time': 1729026894.7537396, 'modification_time': 1728916150.4873421, 'key': 'guide.pdf_134_c37f12bf60d3e4890beab49c1ded8c16ca6cd666807225459749cdc2815979a8', 'pk': 453224949084361960}, page_content='토큰을 발급·관리\\n3.갱신 및 \\n폐기관리\\n3-1. 전송요구 유효기간 동안 리프레시토큰을 무단 변경하지 않음 (갱신·삭제 등)\\n3-2. 전송요구 변경에 따라 새로운 접근토큰과 리프레시토큰 발급 시 기존 접근\\n토큰과 리프레시토큰을 즉시 폐기\\n3-3. 전송요구 철회시 접근토큰과 리프레시토큰을 즉시 폐기\\n4. 정보제공'), Document(metadata={'doc_name': 'api.pdf', 'page_number': 48, 'creation_time': 1729026884.7069488, 'modification_time': 1728916150.4709036, 'key': 'api.pdf_48_1a326de885c7ddf3fa365ff5bcb9d5c0322791fa9dd15597103261be96d24a94', 'pk': 453224949084362323}, page_content='정보주체 재동의 없이 리프레시 토큰을 이용하여 접근토큰 갱신이 \\n가능\\n   ㅇ (지원 API 호출용/제공용) 접근토큰의 유효기간은 최장 1년이며, 리프\\n레시 토큰은 지원 안 함'), Document(metadata={'doc_name': 'guide.pdf', 'page_number': 114, 'creation_time': 1729026894.7537396, 'modification_time': 1728916150.4873421, 'key': 'guide.pdf_114_ce1f79964bb08957f2adcb9d8e2c54b8c75ac06a24def0d9dda7d67e6eef1484', 'pk': 453224949084361891}, page_content='요청 권한을 획득하기 위한 것으로 정보제공자가 마이데이터사업자에게 발급합니다. \\n접근토큰은 최대 유효기간이 1년이며 개인신용정보 전송 요구 변경･연장 시에 \\n기발급된 접근 토큰을 폐기하고 재발급받아야 합니다.')], 'question': '토큰 발행이 만료되면 어떻게해?', 'history': '과거 대화 내역 요약: 당신의 이름은 신강식이라고 합니다. AI는 반갑다고 인사합니다.\\n\\n', 'generation': '토큰 발행이 만료되면 다음과 같은 절차를 따릅니다:\\n\\n1. 접근토큰 만료: 접근토큰이 만료되면, 새로운 접근토큰을 발급해야 합니다. 이를 위해 정보주체는 새로운 접근토큰을 요청해야 합니다. 만약 접근토큰이 만료되었지만 리프레시토큰이 아직 유효하다면, 리프레시토큰을 사용하여 새로운 접근토큰을 발급할 수 있습니다.\\n\\n2. 리프레시토큰 활용: 만약 리프레시토큰을 사용하여 접근토큰을 갱신할 수 있는 경우, 정보주체는 리프레시토큰을 사용하여 새로운 접근토큰을 발급받을 수 있습니다. 이를 통해 접근토큰의 유효기간을 연장할 수 있습니다.\\n\\n3. 폐기 및 재발급: 만약 접근토큰이 만료되었거나 더 이상 사용할 수 없는 경우, 해당 접근토큰은 폐기되어야 합니다. 이후 정보주체는 새로운 접근토큰을 요청하여 발급받아야 합니다.\\n\\n따라서, 토큰 발행이 만료되면 새로운 토큰을 발급받거나 갱신하여 사용해야 합니다.\\n\\n참조한 문서: \\n- guide.pdf (페이지 134, 114)\\n- api.pdf (페이지 48)\\n링크: 제공된 문서가 없기 때문에 링크를 제공할 수 없습니다.'}\n"
     ]
    }
   ],
   "source": [
    "result = generate_web_rag(state)\n",
    "print(result)"
   ]
  },
  {
   "cell_type": "markdown",
   "metadata": {},
   "source": [
    "## Grade"
   ]
  },
  {
   "cell_type": "markdown",
   "metadata": {},
   "source": [
    "### Grade Documents"
   ]
  },
  {
   "cell_type": "code",
   "execution_count": 198,
   "metadata": {},
   "outputs": [],
   "source": [
    "def grade_documents(state):\n",
    "    \"\"\"\n",
    "    Determines whether the retrieved documents are relevant to the question.\n",
    "\n",
    "    Args:\n",
    "        state (dict): The current graph state\n",
    "\n",
    "    Returns:\n",
    "        state (dict): Updates documents key with only filtered relevant documents\n",
    "    \"\"\"\n",
    "\n",
    "    print(\"---CHECK DOCUMENT RELEVANCE TO QUESTION---\")\n",
    "    question = state[\"question\"]\n",
    "    documents = state[\"documents\"]\n",
    "\n",
    "    # Score each doc\n",
    "    filtered_docs = []\n",
    "    for d in documents:\n",
    "        score = retrieval_grader(llm, d.page_content,  question)\n",
    "        grade = score.binary_score\n",
    "        if grade == \"yes\":\n",
    "            print(\"---GRADE: DOCUMENT RELEVANT---\")\n",
    "            filtered_docs.append(d)\n",
    "        else:\n",
    "            print(\"---GRADE: DOCUMENT NOT RELEVANT---\")\n",
    "            continue\n",
    "    return {\"documents\": filtered_docs, \"question\": question, \"hallucinate_cnt\": 0}"
   ]
  },
  {
   "cell_type": "code",
   "execution_count": 104,
   "metadata": {},
   "outputs": [
    {
     "name": "stdout",
     "output_type": "stream",
     "text": [
      "---CHECK DOCUMENT RELEVANCE TO QUESTION---\n",
      "---GRADE: DOCUMENT RELEVANT---\n",
      "---GRADE: DOCUMENT RELEVANT---\n",
      "---GRADE: DOCUMENT RELEVANT---\n",
      "---GRADE: DOCUMENT RELEVANT---\n"
     ]
    },
    {
     "data": {
      "text/plain": [
       "{'documents': [Document(metadata={'doc_name': 'guide.pdf', 'page_number': 134, 'creation_time': 1729026894.7537396, 'modification_time': 1728916150.4873421, 'key': 'guide.pdf_134_93501f35de66dc071a7b0d836c7118791795f0ab69d67cfe836dcb3487f0396c', 'pk': 453224949084361958}, page_content='1-5. 지원API 제공용 접근토큰의 유효기간을 1년 이내로 설정하여 발급\\n1-6. 접근토큰 발급·재발급 시 전송요구 동의기간을 참고하여 유효기간을 알맞게 \\n설정하여 발급\\n2.발급관리\\n2-1. 실제로 전송을 요구한 정보주체에 해당하는 접근토큰과 리프레시토큰을 발급\\n2-2. 정보주체별로 중복된 접근토큰과 리프레시토큰이 발급되지 않도록 발급시 \\n확인・관리'),\n",
       "  Document(metadata={'doc_name': 'guide.pdf', 'page_number': 134, 'creation_time': 1729026894.7537396, 'modification_time': 1728916150.4873421, 'key': 'guide.pdf_134_c37f12bf60d3e4890beab49c1ded8c16ca6cd666807225459749cdc2815979a8', 'pk': 453224949084361960}, page_content='토큰을 발급·관리\\n3.갱신 및 \\n폐기관리\\n3-1. 전송요구 유효기간 동안 리프레시토큰을 무단 변경하지 않음 (갱신·삭제 등)\\n3-2. 전송요구 변경에 따라 새로운 접근토큰과 리프레시토큰 발급 시 기존 접근\\n토큰과 리프레시토큰을 즉시 폐기\\n3-3. 전송요구 철회시 접근토큰과 리프레시토큰을 즉시 폐기\\n4. 정보제공'),\n",
       "  Document(metadata={'doc_name': 'api.pdf', 'page_number': 48, 'creation_time': 1729026884.7069488, 'modification_time': 1728916150.4709036, 'key': 'api.pdf_48_1a326de885c7ddf3fa365ff5bcb9d5c0322791fa9dd15597103261be96d24a94', 'pk': 453224949084362323}, page_content='정보주체 재동의 없이 리프레시 토큰을 이용하여 접근토큰 갱신이 \\n가능\\n   ㅇ (지원 API 호출용/제공용) 접근토큰의 유효기간은 최장 1년이며, 리프\\n레시 토큰은 지원 안 함'),\n",
       "  Document(metadata={'doc_name': 'guide.pdf', 'page_number': 114, 'creation_time': 1729026894.7537396, 'modification_time': 1728916150.4873421, 'key': 'guide.pdf_114_ce1f79964bb08957f2adcb9d8e2c54b8c75ac06a24def0d9dda7d67e6eef1484', 'pk': 453224949084361891}, page_content='요청 권한을 획득하기 위한 것으로 정보제공자가 마이데이터사업자에게 발급합니다. \\n접근토큰은 최대 유효기간이 1년이며 개인신용정보 전송 요구 변경･연장 시에 \\n기발급된 접근 토큰을 폐기하고 재발급받아야 합니다.')],\n",
       " 'question': '토큰 발행이 만료되면 어떻게해?'}"
      ]
     },
     "execution_count": 104,
     "metadata": {},
     "output_type": "execute_result"
    }
   ],
   "source": [
    "grade_documents(state)"
   ]
  },
  {
   "cell_type": "markdown",
   "metadata": {},
   "source": [
    "## Transform"
   ]
  },
  {
   "cell_type": "markdown",
   "metadata": {},
   "source": [
    "### Transform Query"
   ]
  },
  {
   "cell_type": "code",
   "execution_count": 105,
   "metadata": {},
   "outputs": [],
   "source": [
    "def transform_query(state):\n",
    "    \"\"\"\n",
    "    Transform the query to produce a better question.\n",
    "\n",
    "    Args:\n",
    "        state (dict): The current graph state\n",
    "\n",
    "    Returns:\n",
    "        state (dict): Updates question key with a re-phrased question\n",
    "    \"\"\"\n",
    "\n",
    "    print(\"---TRANSFORM QUERY---\")\n",
    "    question = state[\"question\"]\n",
    "    documents = state[\"documents\"]\n",
    "    history = state[\"history\"]\n",
    "\n",
    "    # Re-write question\n",
    "    better_question = re_write(llm, history, question)\n",
    "    return {\"documents\": documents, \"question\": better_question, \"history\": history}"
   ]
  },
  {
   "cell_type": "code",
   "execution_count": 108,
   "metadata": {},
   "outputs": [
    {
     "name": "stdout",
     "output_type": "stream",
     "text": [
      "---TRANSFORM QUERY---\n",
      "{'documents': [Document(metadata={'doc_name': 'guide.pdf', 'page_number': 134, 'creation_time': 1729026894.7537396, 'modification_time': 1728916150.4873421, 'key': 'guide.pdf_134_93501f35de66dc071a7b0d836c7118791795f0ab69d67cfe836dcb3487f0396c', 'pk': 453224949084361958}, page_content='1-5. 지원API 제공용 접근토큰의 유효기간을 1년 이내로 설정하여 발급\\n1-6. 접근토큰 발급·재발급 시 전송요구 동의기간을 참고하여 유효기간을 알맞게 \\n설정하여 발급\\n2.발급관리\\n2-1. 실제로 전송을 요구한 정보주체에 해당하는 접근토큰과 리프레시토큰을 발급\\n2-2. 정보주체별로 중복된 접근토큰과 리프레시토큰이 발급되지 않도록 발급시 \\n확인・관리'), Document(metadata={'doc_name': 'guide.pdf', 'page_number': 134, 'creation_time': 1729026894.7537396, 'modification_time': 1728916150.4873421, 'key': 'guide.pdf_134_c37f12bf60d3e4890beab49c1ded8c16ca6cd666807225459749cdc2815979a8', 'pk': 453224949084361960}, page_content='토큰을 발급·관리\\n3.갱신 및 \\n폐기관리\\n3-1. 전송요구 유효기간 동안 리프레시토큰을 무단 변경하지 않음 (갱신·삭제 등)\\n3-2. 전송요구 변경에 따라 새로운 접근토큰과 리프레시토큰 발급 시 기존 접근\\n토큰과 리프레시토큰을 즉시 폐기\\n3-3. 전송요구 철회시 접근토큰과 리프레시토큰을 즉시 폐기\\n4. 정보제공'), Document(metadata={'doc_name': 'api.pdf', 'page_number': 48, 'creation_time': 1729026884.7069488, 'modification_time': 1728916150.4709036, 'key': 'api.pdf_48_1a326de885c7ddf3fa365ff5bcb9d5c0322791fa9dd15597103261be96d24a94', 'pk': 453224949084362323}, page_content='정보주체 재동의 없이 리프레시 토큰을 이용하여 접근토큰 갱신이 \\n가능\\n   ㅇ (지원 API 호출용/제공용) 접근토큰의 유효기간은 최장 1년이며, 리프\\n레시 토큰은 지원 안 함'), Document(metadata={'doc_name': 'guide.pdf', 'page_number': 114, 'creation_time': 1729026894.7537396, 'modification_time': 1728916150.4873421, 'key': 'guide.pdf_114_ce1f79964bb08957f2adcb9d8e2c54b8c75ac06a24def0d9dda7d67e6eef1484', 'pk': 453224949084361891}, page_content='요청 권한을 획득하기 위한 것으로 정보제공자가 마이데이터사업자에게 발급합니다. \\n접근토큰은 최대 유효기간이 1년이며 개인신용정보 전송 요구 변경･연장 시에 \\n기발급된 접근 토큰을 폐기하고 재발급받아야 합니다.')], 'question': '토큰 발행 만료 시, 금융 마이데이터 서비스를 계속 이용하려면 어떤 절차를 따라야 하나요?', 'history': '과거 대화 내역 요약: 당신의 이름은 신강식이라고 합니다. AI는 반갑다고 인사합니다.\\n\\n'}\n"
     ]
    }
   ],
   "source": [
    "result = transform_query(state)\n",
    "print(result)"
   ]
  },
  {
   "cell_type": "markdown",
   "metadata": {},
   "source": [
    "### Web Transform Query"
   ]
  },
  {
   "cell_type": "code",
   "execution_count": 110,
   "metadata": {},
   "outputs": [],
   "source": [
    "def web_transform_query(state):\n",
    "    \"\"\"\n",
    "    Transform the query to produce a better question for web search.\n",
    "\n",
    "    Args:\n",
    "        state (dict): The current graph state\n",
    "\n",
    "    Returns:\n",
    "        state (dict): Updates question key with a re-phrased question\n",
    "    \"\"\"\n",
    "\n",
    "    print(\"---TRANSFORM QUERY---\")\n",
    "    question = state[\"question\"]\n",
    "    history = state[\"history\"]\n",
    "\n",
    "    # Re-write question\n",
    "    better_question = re_write_for_web(llm, history, question)\n",
    "    return {\"question\": better_question, \"history\": history}"
   ]
  },
  {
   "cell_type": "code",
   "execution_count": 111,
   "metadata": {},
   "outputs": [
    {
     "name": "stdout",
     "output_type": "stream",
     "text": [
      "---TRANSFORM QUERY---\n",
      "{'question': '토큰 발행 만료 시 조치 방법', 'history': '과거 대화 내역 요약: 당신의 이름은 신강식이라고 합니다. AI는 반갑다고 인사합니다.\\n\\n'}\n"
     ]
    }
   ],
   "source": [
    "result = web_transform_query(state)\n",
    "print(result)"
   ]
  },
  {
   "cell_type": "markdown",
   "metadata": {},
   "source": [
    "## Web"
   ]
  },
  {
   "cell_type": "markdown",
   "metadata": {},
   "source": [
    "### Web Search"
   ]
  },
  {
   "cell_type": "code",
   "execution_count": 124,
   "metadata": {},
   "outputs": [],
   "source": [
    "from langchain_core.documents import Document\n",
    "from langchain_community.tools.tavily_search import TavilySearchResults\n",
    "\n",
    "\n",
    "def web_search(state):\n",
    "    \"\"\"\n",
    "    Web search based on the re-phrased question.\n",
    "\n",
    "    Args:\n",
    "        state (dict): The current graph state\n",
    "\n",
    "    Returns:\n",
    "        state (dict): Updates documents key with appended web results\n",
    "    \"\"\"\n",
    "\n",
    "    print(\"---WEB SEARCH---\")\n",
    "    question = state[\"question\"]\n",
    "\n",
    "    # Web search\n",
    "    web_search_tool = TavilySearchResults(max_results=3)\n",
    "    docs = web_search_tool.invoke(question)\n",
    "    web_results = []\n",
    "    for d in docs:\n",
    "        web_results.append(Document(page_content=d[\"content\"], metadata={\"url\":d[\"url\"]}))\n",
    "    \n",
    "    return {\"documents\": web_results, \"question\": question}"
   ]
  },
  {
   "cell_type": "code",
   "execution_count": 125,
   "metadata": {},
   "outputs": [
    {
     "name": "stdout",
     "output_type": "stream",
     "text": [
      "---WEB SEARCH---\n",
      "{'documents': [Document(metadata={'url': 'https://academy.adriel.com/ko/토큰-만료는-왜-되나요'}, page_content='[데이터 연결] 토큰 만료는 왜 되나요? 토큰은 여러 이유로 만료가 될 수 있습니다. 토큰이 만료되면 데이터 소스를 재연결해야 합니다. <토큰 만료 원인> - 계정의 비밀 번호 등이 바뀐 경우 - 제공되는 api의 보안 상, 주기적으로 만료되는 경우'), Document(metadata={'url': 'https://www.toptut.com/ko/how-to-solve-oauth-token-expiration-issues-like-a-pro/'}, page_content='개발자, 기술 애호가 또는 단순히 토큰 만료 처리 방법에 대해 궁금한 점이 있는 분이라면 이 가이드를 통해 이 문제를 정면으로 해결할 수 있는 지식과 자신감을 얻으실 수 있습니다. 이 섹션에서는 새로 고침 토큰의 역할, 만료 시간 및 액세스 토큰 유효성에 대해 살펴보겠습니다. 액세스 토큰이 만료되려고 하면 애플리케이션은 새로 고침 토큰을 사용하여 사용자가 다시 로그인하지 않고도 새로운 액세스 토큰을 얻을 수 있습니다. 이 엔드포인트를 사용하면 이전에 받은 새로 고침 토큰을 사용하여 새 액세스 토큰을 얻을 수 있습니다. OAuth 토큰 만료 문제를 처리하는 것은 복잡할 수 있지만 만료 기호를 인식하고, 토큰 엔드포인트에 요청하고, 새로 고침 토큰을 활용하고, 새 액세스 토큰을 얻으면 이러한 문제를 원활하게 해결할 수 있습니다. 새로 고침 토큰 순환 및 클라이언트 암호 사용 외에도 일반적인 보안 모범 사례를 따르는 것이 중요합니다.'), Document(metadata={'url': 'https://m.blog.naver.com/songpha69/223007170550'}, page_content='토큰증권(ST Security Token) 분산원장 기술을 기반으로 디지털화한 증권. . 「토큰 증권 발행‧유통 규율체계 정비방안」 추가 Q&A. 2.6일 \"토큰증권 발행‧유통 규율체계 정비방안\" 보도자료 관련 추가 Q&A를 드리오니 보도에 참고하시기 바랍니다. . 문의는 금융 ...')], 'question': '토큰 발행이 만료되면 어떻게해?'}\n"
     ]
    }
   ],
   "source": [
    "result = web_search(state)\n",
    "print(result)"
   ]
  },
  {
   "cell_type": "markdown",
   "metadata": {},
   "source": [
    "# Edge"
   ]
  },
  {
   "cell_type": "markdown",
   "metadata": {},
   "source": [
    "### Route Question (web search or RAG or Common)"
   ]
  },
  {
   "cell_type": "code",
   "execution_count": 126,
   "metadata": {},
   "outputs": [],
   "source": [
    "def route_question(state):\n",
    "    \"\"\"\n",
    "    Route question to web search or RAG.\n",
    "\n",
    "    Args:\n",
    "        state (dict): The current graph state\n",
    "\n",
    "    Returns:\n",
    "        str: Next node to call\n",
    "    \"\"\"\n",
    "    print(\"****route_question****\")\n",
    "    print(\"1. ---ROUTE QUESTION---\")\n",
    "    question = state[\"question\"]\n",
    "    history = state[\"history\"]\n",
    "    source = router(llm, history, question)\n",
    "    if source.datasource == \"common\":\n",
    "        print(\"2. ---ROUTE QUESTION TO COMMON CHAT---\")\n",
    "        return \"common\"\n",
    "    elif source.datasource == \"vectorstore\":\n",
    "        print(\"2. ---ROUTE QUESTION TO RAG---\")\n",
    "        return \"vectorstore\""
   ]
  },
  {
   "cell_type": "code",
   "execution_count": 127,
   "metadata": {},
   "outputs": [
    {
     "name": "stdout",
     "output_type": "stream",
     "text": [
      "****route_question****\n",
      "1. ---ROUTE QUESTION---\n",
      "2. ---ROUTE QUESTION TO RAG---\n"
     ]
    },
    {
     "data": {
      "text/plain": [
       "'vectorstore'"
      ]
     },
     "execution_count": 127,
     "metadata": {},
     "output_type": "execute_result"
    }
   ],
   "source": [
    "route_question(state)"
   ]
  },
  {
   "cell_type": "markdown",
   "metadata": {},
   "source": [
    "### Decide to Generate"
   ]
  },
  {
   "cell_type": "code",
   "execution_count": 188,
   "metadata": {},
   "outputs": [],
   "source": [
    "def decide_to_generate(state):\n",
    "    \"\"\"\n",
    "    Determines whether to generate an answer, or re-generate a question.\n",
    "\n",
    "    Args:\n",
    "        state (dict): The current graph state\n",
    "\n",
    "    Returns:\n",
    "        str: Binary decision for next node to call\n",
    "    \"\"\"\n",
    "    print(\"****decide_to_generate****\")\n",
    "    print(\"1. ---ASSESS GRADED DOCUMENTS---\")\n",
    "    filtered_documents = state[\"documents\"]\n",
    "\n",
    "    if not filtered_documents:\n",
    "        # All documents have been filtered check_relevance\n",
    "        # We will re-generate a new query\n",
    "        print(\n",
    "            \"2. ---DECISION: ALL DOCUMENTS ARE NOT RELEVANT TO QUESTION, TRANSFORM QUERY---\"\n",
    "        )\n",
    "        return \"transform_query\"\n",
    "    else:\n",
    "        # We have relevant documents, so generate answer\n",
    "        print(\"2. ---DECISION: GENERATE---\")\n",
    "        return \"generate_rag\""
   ]
  },
  {
   "cell_type": "code",
   "execution_count": 189,
   "metadata": {},
   "outputs": [
    {
     "name": "stdout",
     "output_type": "stream",
     "text": [
      "****decide_to_generate****\n",
      "1. ---ASSESS GRADED DOCUMENTS---\n",
      "2. ---DECISION: GENERATE---\n"
     ]
    },
    {
     "data": {
      "text/plain": [
       "'generate_rag'"
      ]
     },
     "execution_count": 189,
     "metadata": {},
     "output_type": "execute_result"
    }
   ],
   "source": [
    "decide_to_generate(state)"
   ]
  },
  {
   "cell_type": "markdown",
   "metadata": {},
   "source": [
    "### Check Hallucination"
   ]
  },
  {
   "cell_type": "code",
   "execution_count": 180,
   "metadata": {},
   "outputs": [],
   "source": [
    "def check_hallucination(state):\n",
    "    \"\"\"\n",
    "    Determines whether the generation is grounded in the document and answers question.\n",
    "\n",
    "    Args:\n",
    "        state (dict): The current graph state\n",
    "\n",
    "    Returns:\n",
    "        str: Decision for next node to call\n",
    "    \"\"\"\n",
    "    print(\"****check_hallucination****\")\n",
    "    question = state[\"question\"]\n",
    "    documents = state[\"documents\"]\n",
    "    generation = state[\"generation\"]\n",
    "    history = state[\"history\"]\n",
    "    hallucinate_cnt = state[\"hallucinate_cnt\"]\n",
    "\n",
    "    score = hallucination_grader(llm, history, documents, generation, hallucinate_cnt)\n",
    "    print(score)\n",
    "    grade = score.multiple_score\n",
    "\n",
    "    if grade == \"yes\":\n",
    "        ## 끝\n",
    "        return \"useful\"\n",
    "    elif grade == \"no\":\n",
    "        ## 재생성\n",
    "        return \"not useful\"\n",
    "    else:\n",
    "        ## 무한루프\n",
    "        return \"infinite\""
   ]
  },
  {
   "cell_type": "code",
   "execution_count": 182,
   "metadata": {},
   "outputs": [
    {
     "name": "stdout",
     "output_type": "stream",
     "text": [
      "****check_hallucination****\n",
      "multiple_score='infinite'\n",
      "infinite\n"
     ]
    }
   ],
   "source": [
    "state.update({\"generation\": result['generation']})\n",
    "state.update({\"hallucinate_cnt\": 4})\n",
    "result_hallucination = check_hallucination(state)\n",
    "print(result_hallucination)"
   ]
  },
  {
   "cell_type": "markdown",
   "metadata": {},
   "source": [
    "### Compile Graph"
   ]
  },
  {
   "cell_type": "code",
   "execution_count": 199,
   "metadata": {},
   "outputs": [],
   "source": [
    "from langgraph.graph import END, StateGraph, START\n",
    "\n",
    "workflow = StateGraph(GraphState)\n",
    "\n",
    "# Define the nodes\n",
    "\n",
    "## Retrieve\n",
    "workflow.add_node(\"web_search\", web_search)  # web search\n",
    "workflow.add_node(\"retrieve\", retrieve)  # retrieve\n",
    "workflow.add_node(\"grade_documents\", grade_documents)  # grade documents\n",
    "\n",
    "## Generate\n",
    "workflow.add_node(\"generate_rag\", generate_rag)  # generatae\n",
    "workflow.add_node(\"generate\", generate)\n",
    "workflow.add_node(\"generate_web_rag\", generate_web_rag)  # generate_web_rag\n",
    "\n",
    "## Develop\n",
    "workflow.add_node(\"transform_query\", transform_query)  # transform_query\n",
    "workflow.add_node(\"web_transform_query\", web_transform_query)  # web_transform_query\n",
    "\n",
    "# Build graph\n",
    "## Route\n",
    "workflow.add_conditional_edges(\n",
    "    START,\n",
    "    route_question,\n",
    "    {\n",
    "        \"common\": \"generate\",\n",
    "        \"web\": \"web_search\",\n",
    "        \"vectorstore\": \"retrieve\",\n",
    "    },\n",
    ")\n",
    "\n",
    "### Common\n",
    "workflow.add_edge(\"generate\", END)\n",
    "\n",
    "### Self-reflective RAG\n",
    "workflow.add_edge(\"retrieve\", \"grade_documents\")\n",
    "workflow.add_conditional_edges(\n",
    "    \"grade_documents\",\n",
    "    decide_to_generate,\n",
    "    {\n",
    "        \"transform_query\": \"transform_query\",\n",
    "        \"generate_rag\": \"generate_rag\",\n",
    "    },\n",
    ")\n",
    "workflow.add_edge(\"transform_query\", \"retrieve\")\n",
    "\n",
    "## Final Step\n",
    "workflow.add_conditional_edges(\n",
    "    \"generate_rag\",\n",
    "    check_hallucination,\n",
    "    {\n",
    "        \"useful\": END,\n",
    "        \"not useful\": \"generate_rag\",\n",
    "        \"infinite\": \"web_transform_query\",\n",
    "    },\n",
    ")\n",
    "\n",
    "### Web Search\n",
    "workflow.add_edge(\"web_transform_query\", \"web_search\")\n",
    "workflow.add_edge(\"web_search\", \"generate_web_rag\")\n",
    "workflow.add_edge(\"generate_web_rag\", END)\n",
    "\n",
    "# Compile\n",
    "app = workflow.compile()"
   ]
  },
  {
   "cell_type": "markdown",
   "metadata": {},
   "source": [
    "### Test"
   ]
  },
  {
   "cell_type": "code",
   "execution_count": 201,
   "metadata": {},
   "outputs": [
    {
     "name": "stdout",
     "output_type": "stream",
     "text": [
      "****route_question****\n",
      "1. ---ROUTE QUESTION---\n",
      "2. ---ROUTE QUESTION TO RAG---\n",
      "****retrieve****\n",
      "---RETRIEVE---\n",
      "\"Node 'retrieve':\"\n",
      "'\\n---\\n'\n",
      "---CHECK DOCUMENT RELEVANCE TO QUESTION---\n",
      "---GRADE: DOCUMENT RELEVANT---\n",
      "---GRADE: DOCUMENT RELEVANT---\n",
      "---GRADE: DOCUMENT RELEVANT---\n",
      "---GRADE: DOCUMENT RELEVANT---\n",
      "****decide_to_generate****\n",
      "1. ---ASSESS GRADED DOCUMENTS---\n",
      "2. ---DECISION: GENERATE---\n",
      "\"Node 'grade_documents':\"\n",
      "'\\n---\\n'\n",
      "---GENERATE RAG(VECTORSTORE)---\n",
      "****check_hallucination****\n",
      "multiple_score='no'\n",
      "\"Node 'generate_rag':\"\n",
      "'\\n---\\n'\n",
      "---GENERATE RAG(VECTORSTORE)---\n",
      "****check_hallucination****\n",
      "multiple_score='no'\n",
      "\"Node 'generate_rag':\"\n",
      "'\\n---\\n'\n",
      "---GENERATE RAG(VECTORSTORE)---\n",
      "****check_hallucination****\n",
      "multiple_score='no'\n",
      "\"Node 'generate_rag':\"\n",
      "'\\n---\\n'\n",
      "---GENERATE RAG(VECTORSTORE)---\n",
      "****check_hallucination****\n",
      "multiple_score='infinite'\n",
      "\"Node 'generate_rag':\"\n",
      "'\\n---\\n'\n",
      "---TRANSFORM QUERY---\n",
      "\"Node 'web_transform_query':\"\n",
      "'\\n---\\n'\n",
      "---WEB SEARCH---\n",
      "\"Node 'web_search':\"\n",
      "'\\n---\\n'\n",
      "---GENERATE RAG(WEB SEARCH)---\n",
      "\"Node 'generate_web_rag':\"\n",
      "'\\n---\\n'\n",
      "('x-api-tran-id는 API 요청 또는 응답에서 사용되는 트랜잭션 ID를 나타냅니다. 이는 특정 API 호출에 대한 고유한 식별자로 '\n",
      " '사용되며, 해당 트랜잭션의 추적 및 모니터링을 용이하게 합니다. 일반적으로 이러한 트랜잭션 ID는 API 호출을 추적하고 디버깅하는 데 '\n",
      " '유용하며, 문제가 발생했을 때 해당 트랜잭션을 식별하고 해결하는 데 도움이 됩니다.\\n'\n",
      " '\\n'\n",
      " '참조한 웹 사이트:\\n'\n",
      " '- https://support.upbit.com/hc/ko/articles/900005806526-TXID가-무엇인가요\\n'\n",
      " '- https://m.blog.naver.com/dreaming2121-/222821181281\\n'\n",
      " '- https://www.techopedia.com/kr/definition/transaction-id-txid')\n"
     ]
    }
   ],
   "source": [
    "from pprint import pprint\n",
    "\n",
    "\n",
    "# Q: 토큰이 중복 발급되었을 경우 어떻게 되나요?\n",
    "\n",
    "# Q: 정보 전송 요구 연장은 언제 가능한가요?\n",
    "\n",
    "# Q: x-api-tran-id에 대해 알려주세요.\n",
    "\n",
    "# Q: API 스펙 중 aNS는 어떤 것을 뜻하나요?\n",
    "\n",
    "# Run\n",
    "inputs = {\n",
    "    \"question\": \"x-api-tran-id에 대해 알려주세요.\",\n",
    "    \"history\": history,\n",
    "}\n",
    "for output in app.stream(inputs):\n",
    "    for key, value in output.items():\n",
    "        # Node\n",
    "        pprint(f\"Node '{key}':\")\n",
    "        # Optional: print full state at each node\n",
    "        # pprint.pprint(value[\"keys\"], indent=2, width=80, depth=None)\n",
    "    pprint(\"\\n---\\n\")\n",
    "\n",
    "# Final generation\n",
    "pprint(value[\"generation\"])"
   ]
  },
  {
   "cell_type": "code",
   "execution_count": 206,
   "metadata": {},
   "outputs": [
    {
     "data": {
      "text/plain": [
       "langgraph.graph.state.CompiledStateGraph"
      ]
     },
     "execution_count": 206,
     "metadata": {},
     "output_type": "execute_result"
    }
   ],
   "source": [
    "type(app)"
   ]
  },
  {
   "cell_type": "code",
   "execution_count": null,
   "metadata": {},
   "outputs": [],
   "source": []
  },
  {
   "cell_type": "code",
   "execution_count": null,
   "metadata": {},
   "outputs": [],
   "source": [
    "def grade_generation_v_documents_and_question(state):\n",
    "    \"\"\"\n",
    "    Determines whether the generation is grounded in the document and answers question.\n",
    "\n",
    "    Args:\n",
    "        state (dict): The current graph state\n",
    "\n",
    "    Returns:\n",
    "        str: Decision for next node to call\n",
    "    \"\"\"\n",
    "    print(\"****grade_generation_v_documents_and_question****\")\n",
    "    print(\"1. ---CHECK HALLUCINATIONS---\")\n",
    "    question = state[\"question\"]\n",
    "    documents = state[\"documents\"]\n",
    "    generation = state[\"generation\"]\n",
    "    history = state[\"history\"]\n",
    "\n",
    "    score = hallucination_grader(llm, history, documents, generation)\n",
    "    grade = score.binary_score\n",
    "\n",
    "    # Check hallucination\n",
    "    if grade == \"yes\":\n",
    "        print(\"2. ---DECISION: GENERATION IS GROUNDED IN DOCUMENTS---\")\n",
    "        # Check question-answering\n",
    "        print(\"3. ---GRADE GENERATION vs QUESTION---\")\n",
    "        score = answer_grader(llm, history, question, generation)\n",
    "        grade = score.binary_score\n",
    "        if grade == \"yes\":\n",
    "            print(\"4. ---DECISION: GENERATION ADDRESSES QUESTION---\")\n",
    "            return \"useful\"\n",
    "        else:\n",
    "            print(\"4. ---DECISION: GENERATION DOES NOT ADDRESS QUESTION---\")\n",
    "            return \"not useful\"\n",
    "    else:\n",
    "        print(\"2. ---DECISION: GENERATION IS NOT GROUNDED IN DOCUMENTS, RE-TRY---\")\n",
    "        return \"not supported\""
   ]
  }
 ],
 "metadata": {
  "kernelspec": {
   "display_name": "spider-backend-9NzdiGFy-py3.11",
   "language": "python",
   "name": "python3"
  },
  "language_info": {
   "codemirror_mode": {
    "name": "ipython",
    "version": 3
   },
   "file_extension": ".py",
   "mimetype": "text/x-python",
   "name": "python",
   "nbconvert_exporter": "python",
   "pygments_lexer": "ipython3",
   "version": "3.11.3"
  }
 },
 "nbformat": 4,
 "nbformat_minor": 2
}

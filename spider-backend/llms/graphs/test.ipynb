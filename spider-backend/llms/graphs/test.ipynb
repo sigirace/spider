{
 "cells": [
  {
   "cell_type": "code",
   "execution_count": 1,
   "metadata": {},
   "outputs": [
    {
     "name": "stderr",
     "output_type": "stream",
     "text": [
      "/Users/sigi/kang_dev/challenges/RAG/backend/spider-backend/llms/vectordb/__init__.py:5: LangChainDeprecationWarning: The class `OpenAIEmbeddings` was deprecated in LangChain 0.0.9 and will be removed in 1.0. An updated version of the class exists in the :class:`~langchain-openai package and should be used instead. To use it run `pip install -U :class:`~langchain-openai` and import as `from :class:`~langchain_openai import OpenAIEmbeddings``.\n",
      "  vector_db = VectorDB(get_milvus_settings(), OpenAIEmbeddings())\n"
     ]
    },
    {
     "name": "stdout",
     "output_type": "stream",
     "text": [
      "[ 2024-10-16 15:25:25.085202 ] : connect_to_milvus()\n",
      "[ 2024-10-16 15:25:25.190405 ] : get_database()\n"
     ]
    },
    {
     "name": "stderr",
     "output_type": "stream",
     "text": [
      "/Users/sigi/kang_dev/challenges/RAG/backend/spider-backend/llms/vectordb/database.py:56: LangChainDeprecationWarning: The class `Milvus` was deprecated in LangChain 0.2.0 and will be removed in 1.0. An updated version of the class exists in the :class:`~langchain-milvus package and should be used instead. To use it run `pip install -U :class:`~langchain-milvus` and import as `from :class:`~langchain_milvus import Milvusdatabase``.\n",
      "  database = Milvus(\n"
     ]
    },
    {
     "name": "stdout",
     "output_type": "stream",
     "text": [
      "[ 2024-10-16 15:25:25.441969 ] : connect_to_milvus()\n",
      "[ 2024-10-16 15:25:25.478482 ] : get_database()\n",
      "[ 2024-10-16 15:25:26.025347 ] : connect_to_milvus()\n",
      "[ 2024-10-16 15:25:26.078534 ] : get_database()\n"
     ]
    }
   ],
   "source": [
    "import os\n",
    "import sys\n",
    "sys.path.append(os.path.abspath(os.path.join(os.getcwd(), '..')))\n",
    "sys.path.append(os.path.abspath(os.path.join(os.path.join(os.getcwd(), '..'), '..')))\n",
    "\n",
    "from vectordb.vectorstore import VectorDB\n",
    "from schemas.models import get_milvus_settings\n",
    "\n",
    "from langchain_openai import ChatOpenAI, OpenAIEmbeddings\n",
    "from builder import LangGraph\n",
    "\n",
    "vector_db = VectorDB(get_milvus_settings(), OpenAIEmbeddings())\n",
    "retriever = vector_db.get_retriever(collection_name=\"document_embeddings\")\n",
    "llm = ChatOpenAI(model=\"gpt-4o-mini\")\n",
    "app = LangGraph(retriever=retriever, llm=llm)"
   ]
  },
  {
   "cell_type": "code",
   "execution_count": 4,
   "metadata": {},
   "outputs": [
    {
     "name": "stdout",
     "output_type": "stream",
     "text": [
      "****route_question****\n",
      "1. ---ROUTE QUESTION---\n",
      "*****[Module]router*****\n",
      "2. ---ROUTE QUESTION TO WEB SEARCH---\n",
      "****web_search****\n",
      "---WEB SEARCH---\n",
      "output {'web_search': {'question': '한화시스템 주가 알려줘', 'documents': [Document(metadata={'url': 'https://kr.investing.com/equities/hanwha-systems-co-ltd'}, page_content='한화시스템은 (는) 2024년 10월 23일에 다음 실적 보고서를 발표할 예정입니다. 한화시스템의 주가, 272210 주식, 차트, 기술적 분석, 실적 자료 등 한화시스템 시세에 대한 자세한 정보를 확인해 보세요. 오늘의 시세뿐만 아니라 뉴스와 분석, 재정 상황, 포럼 등도 ...'), Document(metadata={'url': 'https://www.g-enews.com/article/Securities/2023/06/202306140914063060647a96443_1'}, page_content='한화시스템은 올해 2분기 실적이 개선될 전망에 주가가 강세를 보이고 있습니다. 한화시스템의 주가는 14일 오전 9시 10분 현재 전일보다 300원 (2.75% ...'), Document(metadata={'url': 'https://www.g-enews.com/article/Securities/2022/12/2022122610080299090647a96443_1'}, page_content='한화시스템의 주가는 26일 오전 9시 50분 현재 전일보다 150원(1.38%) 내린 1만750원에 거래되고 있습니다. IBK투자증권은 한화시스템이 본업인 K방산 닫기')]}}\n",
      "Node : web_search\n",
      "****generate_web_rag****\n",
      "---GENERATE RAG(WEB SEARCH)---\n",
      "*****[Module]web_rag*****\n",
      "output {'generate_web_rag': {'question': '한화시스템 주가 알려줘', 'history': '', 'generation': '한화시스템의 현재 주가는 2023년 6월 14일 기준으로 11,250원이었으며, 전일보다 300원(2.75%) 상승한 상태였습니다. 또한, 2022년 12월 26일 기준으로는 주가가 10,750원이었고, 전일보다 150원(1.38%) 하락한 것으로 나타났습니다. \\n\\n이 외에도 한화시스템은 2024년 10월 23일에 다음 실적 보고서를 발표할 예정이며, 최근 실적이 개선될 전망이라는 뉴스가 있습니다.\\n\\n더 자세한 정보는 아래 링크를 통해 확인할 수 있습니다:\\n- [한화시스템 주가 및 정보](https://kr.investing.com/equities/hanwha-systems-co-ltd)\\n- [주가 강세 관련 뉴스](https://www.g-enews.com/article/Securities/2023/06/202306140914063060647a96443_1) \\n\\n이 정보를 바탕으로 필요한 추가 질문이 있다면 말씀해 주세요!', 'documents': [Document(metadata={'url': 'https://kr.investing.com/equities/hanwha-systems-co-ltd'}, page_content='한화시스템은 (는) 2024년 10월 23일에 다음 실적 보고서를 발표할 예정입니다. 한화시스템의 주가, 272210 주식, 차트, 기술적 분석, 실적 자료 등 한화시스템 시세에 대한 자세한 정보를 확인해 보세요. 오늘의 시세뿐만 아니라 뉴스와 분석, 재정 상황, 포럼 등도 ...'), Document(metadata={'url': 'https://www.g-enews.com/article/Securities/2023/06/202306140914063060647a96443_1'}, page_content='한화시스템은 올해 2분기 실적이 개선될 전망에 주가가 강세를 보이고 있습니다. 한화시스템의 주가는 14일 오전 9시 10분 현재 전일보다 300원 (2.75% ...'), Document(metadata={'url': 'https://www.g-enews.com/article/Securities/2022/12/2022122610080299090647a96443_1'}, page_content='한화시스템의 주가는 26일 오전 9시 50분 현재 전일보다 150원(1.38%) 내린 1만750원에 거래되고 있습니다. IBK투자증권은 한화시스템이 본업인 K방산 닫기')]}}\n",
      "Node : generate_web_rag\n"
     ]
    },
    {
     "data": {
      "text/plain": [
       "{'question': '한화시스템 주가 알려줘',\n",
       " 'history': '',\n",
       " 'generation': '한화시스템의 현재 주가는 2023년 6월 14일 기준으로 11,250원이었으며, 전일보다 300원(2.75%) 상승한 상태였습니다. 또한, 2022년 12월 26일 기준으로는 주가가 10,750원이었고, 전일보다 150원(1.38%) 하락한 것으로 나타났습니다. \\n\\n이 외에도 한화시스템은 2024년 10월 23일에 다음 실적 보고서를 발표할 예정이며, 최근 실적이 개선될 전망이라는 뉴스가 있습니다.\\n\\n더 자세한 정보는 아래 링크를 통해 확인할 수 있습니다:\\n- [한화시스템 주가 및 정보](https://kr.investing.com/equities/hanwha-systems-co-ltd)\\n- [주가 강세 관련 뉴스](https://www.g-enews.com/article/Securities/2023/06/202306140914063060647a96443_1) \\n\\n이 정보를 바탕으로 필요한 추가 질문이 있다면 말씀해 주세요!',\n",
       " 'documents': [Document(metadata={'url': 'https://kr.investing.com/equities/hanwha-systems-co-ltd'}, page_content='한화시스템은 (는) 2024년 10월 23일에 다음 실적 보고서를 발표할 예정입니다. 한화시스템의 주가, 272210 주식, 차트, 기술적 분석, 실적 자료 등 한화시스템 시세에 대한 자세한 정보를 확인해 보세요. 오늘의 시세뿐만 아니라 뉴스와 분석, 재정 상황, 포럼 등도 ...'),\n",
       "  Document(metadata={'url': 'https://www.g-enews.com/article/Securities/2023/06/202306140914063060647a96443_1'}, page_content='한화시스템은 올해 2분기 실적이 개선될 전망에 주가가 강세를 보이고 있습니다. 한화시스템의 주가는 14일 오전 9시 10분 현재 전일보다 300원 (2.75% ...'),\n",
       "  Document(metadata={'url': 'https://www.g-enews.com/article/Securities/2022/12/2022122610080299090647a96443_1'}, page_content='한화시스템의 주가는 26일 오전 9시 50분 현재 전일보다 150원(1.38%) 내린 1만750원에 거래되고 있습니다. IBK투자증권은 한화시스템이 본업인 K방산 닫기')]}"
      ]
     },
     "execution_count": 4,
     "metadata": {},
     "output_type": "execute_result"
    }
   ],
   "source": [
    "app({\"question\": \"한화시스템 주가 알려줘\", \"history\": \"\"})"
   ]
  }
 ],
 "metadata": {
  "kernelspec": {
   "display_name": "spider-backend-9NzdiGFy-py3.11",
   "language": "python",
   "name": "python3"
  },
  "language_info": {
   "codemirror_mode": {
    "name": "ipython",
    "version": 3
   },
   "file_extension": ".py",
   "mimetype": "text/x-python",
   "name": "python",
   "nbconvert_exporter": "python",
   "pygments_lexer": "ipython3",
   "version": "3.11.3"
  }
 },
 "nbformat": 4,
 "nbformat_minor": 2
}
